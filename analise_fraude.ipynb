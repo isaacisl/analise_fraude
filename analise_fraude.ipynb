{
  "cells": [
    {
      "cell_type": "markdown",
      "metadata": {
        "id": "Vf_jywNKm7C1"
      },
      "source": [
        "# Bibliotecas Utilizadas\n"
      ]
    },
    {
      "cell_type": "code",
      "execution_count": 32,
      "metadata": {
        "id": "nOT3Cp75m8fV"
      },
      "outputs": [],
      "source": [
        "# Importações completas utilizadas no notebook\n",
        "\n",
        "# Bibliotecas de manipulação e visualização de dados\n",
        "import numpy as np\n",
        "import pandas as pd\n",
        "import seaborn as sns\n",
        "import matplotlib.pyplot as plt\n",
        "import time\n",
        "\n",
        "# Bibliotecas de pré-processamento\n",
        "from sklearn.preprocessing import StandardScaler\n",
        "\n",
        "# Modelos de aprendizado de máquina\n",
        "from sklearn.decomposition import PCA\n",
        "from sklearn.linear_model import LogisticRegression\n",
        "from sklearn.neighbors import KNeighborsClassifier\n",
        "from sklearn.tree import DecisionTreeClassifier\n",
        "\n",
        "# Ferramentas de avaliação de desempenho\n",
        "from sklearn.metrics import classification_report, confusion_matrix, accuracy_score\n",
        "\n",
        "# Métodos de busca de hiperparâmetros e divisão de dados\n",
        "from sklearn.model_selection import RandomizedSearchCV, train_test_split\n",
        "\n",
        "# Ferramentas estatísticas\n",
        "from scipy.stats import randint"
      ]
    },
    {
      "cell_type": "markdown",
      "metadata": {
        "id": "KAb1-dVkm8sE"
      },
      "source": [
        "# Importação dos Dados\n"
      ]
    },
    {
      "cell_type": "code",
      "execution_count": 33,
      "metadata": {
        "colab": {
          "base_uri": "https://localhost:8080/",
          "height": 206
        },
        "id": "2EB_En_-m-Sr",
        "outputId": "7ba4da28-b6d9-4266-dff9-7d46e3ac5004"
      },
      "outputs": [
        {
          "data": {
            "application/vnd.google.colaboratory.intrinsic+json": {
              "type": "dataframe",
              "variable_name": "df"
            },
            "text/html": [
              "\n",
              "  <div id=\"df-bc44ec77-ebb3-4e1f-baae-4e37989e5ffb\" class=\"colab-df-container\">\n",
              "    <div>\n",
              "<style scoped>\n",
              "    .dataframe tbody tr th:only-of-type {\n",
              "        vertical-align: middle;\n",
              "    }\n",
              "\n",
              "    .dataframe tbody tr th {\n",
              "        vertical-align: top;\n",
              "    }\n",
              "\n",
              "    .dataframe thead th {\n",
              "        text-align: right;\n",
              "    }\n",
              "</style>\n",
              "<table border=\"1\" class=\"dataframe\">\n",
              "  <thead>\n",
              "    <tr style=\"text-align: right;\">\n",
              "      <th></th>\n",
              "      <th>step</th>\n",
              "      <th>type</th>\n",
              "      <th>amount</th>\n",
              "      <th>nameOrig</th>\n",
              "      <th>oldbalanceOrg</th>\n",
              "      <th>newbalanceOrig</th>\n",
              "      <th>nameDest</th>\n",
              "      <th>oldbalanceDest</th>\n",
              "      <th>newbalanceDest</th>\n",
              "      <th>isFraud</th>\n",
              "      <th>isFlaggedFraud</th>\n",
              "    </tr>\n",
              "  </thead>\n",
              "  <tbody>\n",
              "    <tr>\n",
              "      <th>0</th>\n",
              "      <td>1</td>\n",
              "      <td>PAYMENT</td>\n",
              "      <td>9839.64</td>\n",
              "      <td>C1231006815</td>\n",
              "      <td>170136.0</td>\n",
              "      <td>160296.36</td>\n",
              "      <td>M1979787155</td>\n",
              "      <td>0.0</td>\n",
              "      <td>0.0</td>\n",
              "      <td>0</td>\n",
              "      <td>0</td>\n",
              "    </tr>\n",
              "    <tr>\n",
              "      <th>1</th>\n",
              "      <td>1</td>\n",
              "      <td>PAYMENT</td>\n",
              "      <td>1864.28</td>\n",
              "      <td>C1666544295</td>\n",
              "      <td>21249.0</td>\n",
              "      <td>19384.72</td>\n",
              "      <td>M2044282225</td>\n",
              "      <td>0.0</td>\n",
              "      <td>0.0</td>\n",
              "      <td>0</td>\n",
              "      <td>0</td>\n",
              "    </tr>\n",
              "    <tr>\n",
              "      <th>2</th>\n",
              "      <td>1</td>\n",
              "      <td>TRANSFER</td>\n",
              "      <td>181.00</td>\n",
              "      <td>C1305486145</td>\n",
              "      <td>181.0</td>\n",
              "      <td>0.00</td>\n",
              "      <td>C553264065</td>\n",
              "      <td>0.0</td>\n",
              "      <td>0.0</td>\n",
              "      <td>1</td>\n",
              "      <td>0</td>\n",
              "    </tr>\n",
              "    <tr>\n",
              "      <th>3</th>\n",
              "      <td>1</td>\n",
              "      <td>CASH_OUT</td>\n",
              "      <td>181.00</td>\n",
              "      <td>C840083671</td>\n",
              "      <td>181.0</td>\n",
              "      <td>0.00</td>\n",
              "      <td>C38997010</td>\n",
              "      <td>21182.0</td>\n",
              "      <td>0.0</td>\n",
              "      <td>1</td>\n",
              "      <td>0</td>\n",
              "    </tr>\n",
              "    <tr>\n",
              "      <th>4</th>\n",
              "      <td>1</td>\n",
              "      <td>PAYMENT</td>\n",
              "      <td>11668.14</td>\n",
              "      <td>C2048537720</td>\n",
              "      <td>41554.0</td>\n",
              "      <td>29885.86</td>\n",
              "      <td>M1230701703</td>\n",
              "      <td>0.0</td>\n",
              "      <td>0.0</td>\n",
              "      <td>0</td>\n",
              "      <td>0</td>\n",
              "    </tr>\n",
              "  </tbody>\n",
              "</table>\n",
              "</div>\n",
              "    <div class=\"colab-df-buttons\">\n",
              "\n",
              "  <div class=\"colab-df-container\">\n",
              "    <button class=\"colab-df-convert\" onclick=\"convertToInteractive('df-bc44ec77-ebb3-4e1f-baae-4e37989e5ffb')\"\n",
              "            title=\"Convert this dataframe to an interactive table.\"\n",
              "            style=\"display:none;\">\n",
              "\n",
              "  <svg xmlns=\"http://www.w3.org/2000/svg\" height=\"24px\" viewBox=\"0 -960 960 960\">\n",
              "    <path d=\"M120-120v-720h720v720H120Zm60-500h600v-160H180v160Zm220 220h160v-160H400v160Zm0 220h160v-160H400v160ZM180-400h160v-160H180v160Zm440 0h160v-160H620v160ZM180-180h160v-160H180v160Zm440 0h160v-160H620v160Z\"/>\n",
              "  </svg>\n",
              "    </button>\n",
              "\n",
              "  <style>\n",
              "    .colab-df-container {\n",
              "      display:flex;\n",
              "      gap: 12px;\n",
              "    }\n",
              "\n",
              "    .colab-df-convert {\n",
              "      background-color: #E8F0FE;\n",
              "      border: none;\n",
              "      border-radius: 50%;\n",
              "      cursor: pointer;\n",
              "      display: none;\n",
              "      fill: #1967D2;\n",
              "      height: 32px;\n",
              "      padding: 0 0 0 0;\n",
              "      width: 32px;\n",
              "    }\n",
              "\n",
              "    .colab-df-convert:hover {\n",
              "      background-color: #E2EBFA;\n",
              "      box-shadow: 0px 1px 2px rgba(60, 64, 67, 0.3), 0px 1px 3px 1px rgba(60, 64, 67, 0.15);\n",
              "      fill: #174EA6;\n",
              "    }\n",
              "\n",
              "    .colab-df-buttons div {\n",
              "      margin-bottom: 4px;\n",
              "    }\n",
              "\n",
              "    [theme=dark] .colab-df-convert {\n",
              "      background-color: #3B4455;\n",
              "      fill: #D2E3FC;\n",
              "    }\n",
              "\n",
              "    [theme=dark] .colab-df-convert:hover {\n",
              "      background-color: #434B5C;\n",
              "      box-shadow: 0px 1px 3px 1px rgba(0, 0, 0, 0.15);\n",
              "      filter: drop-shadow(0px 1px 2px rgba(0, 0, 0, 0.3));\n",
              "      fill: #FFFFFF;\n",
              "    }\n",
              "  </style>\n",
              "\n",
              "    <script>\n",
              "      const buttonEl =\n",
              "        document.querySelector('#df-bc44ec77-ebb3-4e1f-baae-4e37989e5ffb button.colab-df-convert');\n",
              "      buttonEl.style.display =\n",
              "        google.colab.kernel.accessAllowed ? 'block' : 'none';\n",
              "\n",
              "      async function convertToInteractive(key) {\n",
              "        const element = document.querySelector('#df-bc44ec77-ebb3-4e1f-baae-4e37989e5ffb');\n",
              "        const dataTable =\n",
              "          await google.colab.kernel.invokeFunction('convertToInteractive',\n",
              "                                                    [key], {});\n",
              "        if (!dataTable) return;\n",
              "\n",
              "        const docLinkHtml = 'Like what you see? Visit the ' +\n",
              "          '<a target=\"_blank\" href=https://colab.research.google.com/notebooks/data_table.ipynb>data table notebook</a>'\n",
              "          + ' to learn more about interactive tables.';\n",
              "        element.innerHTML = '';\n",
              "        dataTable['output_type'] = 'display_data';\n",
              "        await google.colab.output.renderOutput(dataTable, element);\n",
              "        const docLink = document.createElement('div');\n",
              "        docLink.innerHTML = docLinkHtml;\n",
              "        element.appendChild(docLink);\n",
              "      }\n",
              "    </script>\n",
              "  </div>\n",
              "\n",
              "\n",
              "<div id=\"df-a728e13c-3840-4211-b255-d531081cb2c2\">\n",
              "  <button class=\"colab-df-quickchart\" onclick=\"quickchart('df-a728e13c-3840-4211-b255-d531081cb2c2')\"\n",
              "            title=\"Suggest charts\"\n",
              "            style=\"display:none;\">\n",
              "\n",
              "<svg xmlns=\"http://www.w3.org/2000/svg\" height=\"24px\"viewBox=\"0 0 24 24\"\n",
              "     width=\"24px\">\n",
              "    <g>\n",
              "        <path d=\"M19 3H5c-1.1 0-2 .9-2 2v14c0 1.1.9 2 2 2h14c1.1 0 2-.9 2-2V5c0-1.1-.9-2-2-2zM9 17H7v-7h2v7zm4 0h-2V7h2v10zm4 0h-2v-4h2v4z\"/>\n",
              "    </g>\n",
              "</svg>\n",
              "  </button>\n",
              "\n",
              "<style>\n",
              "  .colab-df-quickchart {\n",
              "      --bg-color: #E8F0FE;\n",
              "      --fill-color: #1967D2;\n",
              "      --hover-bg-color: #E2EBFA;\n",
              "      --hover-fill-color: #174EA6;\n",
              "      --disabled-fill-color: #AAA;\n",
              "      --disabled-bg-color: #DDD;\n",
              "  }\n",
              "\n",
              "  [theme=dark] .colab-df-quickchart {\n",
              "      --bg-color: #3B4455;\n",
              "      --fill-color: #D2E3FC;\n",
              "      --hover-bg-color: #434B5C;\n",
              "      --hover-fill-color: #FFFFFF;\n",
              "      --disabled-bg-color: #3B4455;\n",
              "      --disabled-fill-color: #666;\n",
              "  }\n",
              "\n",
              "  .colab-df-quickchart {\n",
              "    background-color: var(--bg-color);\n",
              "    border: none;\n",
              "    border-radius: 50%;\n",
              "    cursor: pointer;\n",
              "    display: none;\n",
              "    fill: var(--fill-color);\n",
              "    height: 32px;\n",
              "    padding: 0;\n",
              "    width: 32px;\n",
              "  }\n",
              "\n",
              "  .colab-df-quickchart:hover {\n",
              "    background-color: var(--hover-bg-color);\n",
              "    box-shadow: 0 1px 2px rgba(60, 64, 67, 0.3), 0 1px 3px 1px rgba(60, 64, 67, 0.15);\n",
              "    fill: var(--button-hover-fill-color);\n",
              "  }\n",
              "\n",
              "  .colab-df-quickchart-complete:disabled,\n",
              "  .colab-df-quickchart-complete:disabled:hover {\n",
              "    background-color: var(--disabled-bg-color);\n",
              "    fill: var(--disabled-fill-color);\n",
              "    box-shadow: none;\n",
              "  }\n",
              "\n",
              "  .colab-df-spinner {\n",
              "    border: 2px solid var(--fill-color);\n",
              "    border-color: transparent;\n",
              "    border-bottom-color: var(--fill-color);\n",
              "    animation:\n",
              "      spin 1s steps(1) infinite;\n",
              "  }\n",
              "\n",
              "  @keyframes spin {\n",
              "    0% {\n",
              "      border-color: transparent;\n",
              "      border-bottom-color: var(--fill-color);\n",
              "      border-left-color: var(--fill-color);\n",
              "    }\n",
              "    20% {\n",
              "      border-color: transparent;\n",
              "      border-left-color: var(--fill-color);\n",
              "      border-top-color: var(--fill-color);\n",
              "    }\n",
              "    30% {\n",
              "      border-color: transparent;\n",
              "      border-left-color: var(--fill-color);\n",
              "      border-top-color: var(--fill-color);\n",
              "      border-right-color: var(--fill-color);\n",
              "    }\n",
              "    40% {\n",
              "      border-color: transparent;\n",
              "      border-right-color: var(--fill-color);\n",
              "      border-top-color: var(--fill-color);\n",
              "    }\n",
              "    60% {\n",
              "      border-color: transparent;\n",
              "      border-right-color: var(--fill-color);\n",
              "    }\n",
              "    80% {\n",
              "      border-color: transparent;\n",
              "      border-right-color: var(--fill-color);\n",
              "      border-bottom-color: var(--fill-color);\n",
              "    }\n",
              "    90% {\n",
              "      border-color: transparent;\n",
              "      border-bottom-color: var(--fill-color);\n",
              "    }\n",
              "  }\n",
              "</style>\n",
              "\n",
              "  <script>\n",
              "    async function quickchart(key) {\n",
              "      const quickchartButtonEl =\n",
              "        document.querySelector('#' + key + ' button');\n",
              "      quickchartButtonEl.disabled = true;  // To prevent multiple clicks.\n",
              "      quickchartButtonEl.classList.add('colab-df-spinner');\n",
              "      try {\n",
              "        const charts = await google.colab.kernel.invokeFunction(\n",
              "            'suggestCharts', [key], {});\n",
              "      } catch (error) {\n",
              "        console.error('Error during call to suggestCharts:', error);\n",
              "      }\n",
              "      quickchartButtonEl.classList.remove('colab-df-spinner');\n",
              "      quickchartButtonEl.classList.add('colab-df-quickchart-complete');\n",
              "    }\n",
              "    (() => {\n",
              "      let quickchartButtonEl =\n",
              "        document.querySelector('#df-a728e13c-3840-4211-b255-d531081cb2c2 button');\n",
              "      quickchartButtonEl.style.display =\n",
              "        google.colab.kernel.accessAllowed ? 'block' : 'none';\n",
              "    })();\n",
              "  </script>\n",
              "</div>\n",
              "\n",
              "    </div>\n",
              "  </div>\n"
            ],
            "text/plain": [
              "   step      type    amount     nameOrig  oldbalanceOrg  newbalanceOrig  \\\n",
              "0     1   PAYMENT   9839.64  C1231006815       170136.0       160296.36   \n",
              "1     1   PAYMENT   1864.28  C1666544295        21249.0        19384.72   \n",
              "2     1  TRANSFER    181.00  C1305486145          181.0            0.00   \n",
              "3     1  CASH_OUT    181.00   C840083671          181.0            0.00   \n",
              "4     1   PAYMENT  11668.14  C2048537720        41554.0        29885.86   \n",
              "\n",
              "      nameDest  oldbalanceDest  newbalanceDest  isFraud  isFlaggedFraud  \n",
              "0  M1979787155             0.0             0.0        0               0  \n",
              "1  M2044282225             0.0             0.0        0               0  \n",
              "2   C553264065             0.0             0.0        1               0  \n",
              "3    C38997010         21182.0             0.0        1               0  \n",
              "4  M1230701703             0.0             0.0        0               0  "
            ]
          },
          "execution_count": 33,
          "metadata": {},
          "output_type": "execute_result"
        }
      ],
      "source": [
        "df = pd.read_csv('PS_20174392719_1491204439457_log.csv')\n",
        "df.head()"
      ]
    },
    {
      "cell_type": "markdown",
      "metadata": {
        "id": "q6S4PDCqPXik"
      },
      "source": [
        "# Dicionário de Dados\n",
        "\n",
        "| **Coluna**         | **Descrição**                                                                                                                                                   | **Tipo**     |\n",
        "|---------------------|---------------------------------------------------------------------------------------------------------------------------------------------------------------|--------------|\n",
        "| `step`             | Representa uma unidade de tempo no mundo real. Cada passo equivale a 1 hora. O total de passos no dataset é 744 (30 dias de simulação).                       | `int64`      |\n",
        "| `type`             | Tipo de transação. As categorias incluem: **CASH-IN**, **CASH-OUT**, **DEBIT**, **PAYMENT** e **TRANSFER**.                                                   | `object`     |\n",
        "| `amount`           | Valor da transação em moeda local.                                                                                                                             | `float64`    |\n",
        "| `nameOrig`         | Cliente que iniciou a transação.                                                                                                                               | `object`     |\n",
        "| `oldbalanceOrg`    | Saldo inicial do cliente antes da transação.                                                                                                                   | `float64`    |\n",
        "| `newbalanceOrig`   | Novo saldo do cliente após a transação.                                                                                                                        | `float64`    |\n",
        "| `nameDest`         | Cliente que recebeu a transação. Para clientes que começam com \"M\" (Merchants), não há informações adicionais.                                                 | `object`     |\n",
        "| `oldbalanceDest`   | Saldo inicial do destinatário antes da transação. Não há informações para destinatários que começam com \"M\" (Merchants).                                       | `float64`    |\n",
        "| `newbalanceDest`   | Novo saldo do destinatário após a transação. Não há informações para destinatários que começam com \"M\" (Merchants).                                            | `float64`    |\n",
        "| `isFraud`          | Indica se a transação foi identificada como fraudulenta (1 para fraude, 0 para não fraude). Fraudes simuladas tentam esvaziar contas por transferência ou saque.| `int64`      |\n",
        "| `isFlaggedFraud`   | Marca tentativas ilegais de transferência acima de 200.000 em uma única transação (1 para tentativa ilegal, 0 caso contrário).                                | `int64`      |\n",
        "\n",
        "---"
      ]
    },
    {
      "cell_type": "markdown",
      "metadata": {
        "id": "K5fLd0EcHGSW"
      },
      "source": [
        "# Visualização dos Dados"
      ]
    },
    {
      "cell_type": "code",
      "execution_count": 34,
      "metadata": {
        "colab": {
          "base_uri": "https://localhost:8080/"
        },
        "id": "QIv0XvMgIffI",
        "outputId": "84469bc4-1ad0-4bf5-9e88-9c38627d05ca"
      },
      "outputs": [
        {
          "name": "stdout",
          "output_type": "stream",
          "text": [
            "O DataFrame possui 6362620 linhas e 11 colunas.\n"
          ]
        }
      ],
      "source": [
        "# Verificar o número de linhas e colunas do DataFrame\n",
        "rows, columns = df.shape\n",
        "print(f\"O DataFrame possui {rows} linhas e {columns} colunas.\")"
      ]
    },
    {
      "cell_type": "code",
      "execution_count": 35,
      "metadata": {
        "colab": {
          "base_uri": "https://localhost:8080/"
        },
        "id": "2MghdEvoIqFd",
        "outputId": "4467a6a1-13a2-48e4-ddaf-e0a42a3c130b"
      },
      "outputs": [
        {
          "name": "stdout",
          "output_type": "stream",
          "text": [
            "Empty DataFrame\n",
            "Columns: [Coluna, Valores Ausentes, Percentual (%)]\n",
            "Index: []\n"
          ]
        }
      ],
      "source": [
        "# Verificar colunas com valores nulos e exibi-las\n",
        "missing_data_info = df.isnull().sum().sort_values(ascending=False)\n",
        "missing_data_df = pd.DataFrame({\n",
        "    'Coluna': missing_data_info.index,\n",
        "    'Valores Ausentes': missing_data_info.values,\n",
        "    'Percentual (%)': (missing_data_info.values / len(df)) * 100\n",
        "})\n",
        "\n",
        "# Filtrar apenas colunas com valores ausentes\n",
        "missing_data_df = missing_data_df[missing_data_df['Valores Ausentes'] > 0]\n",
        "print(missing_data_df)"
      ]
    },
    {
      "cell_type": "code",
      "execution_count": 36,
      "metadata": {
        "colab": {
          "base_uri": "https://localhost:8080/"
        },
        "id": "WSpHw71EI50O",
        "outputId": "56e13cae-9ce0-471a-de4d-0e1691898902"
      },
      "outputs": [
        {
          "name": "stdout",
          "output_type": "stream",
          "text": [
            "Número de linhas duplicadas: 0\n"
          ]
        }
      ],
      "source": [
        "# Verificar duplicatas\n",
        "duplicate_rows = df.duplicated().sum()\n",
        "print(f\"Número de linhas duplicadas: {duplicate_rows}\")\n",
        "\n",
        "# Remover duplicatas, se existirem\n",
        "df = df.drop_duplicates()"
      ]
    },
    {
      "cell_type": "code",
      "execution_count": 37,
      "metadata": {
        "colab": {
          "base_uri": "https://localhost:8080/"
        },
        "id": "_P6PH-xzm-lQ",
        "outputId": "c60f7acc-6722-4056-959f-da06161fbc3d"
      },
      "outputs": [
        {
          "name": "stdout",
          "output_type": "stream",
          "text": [
            "<class 'pandas.core.frame.DataFrame'>\n",
            "RangeIndex: 6362620 entries, 0 to 6362619\n",
            "Data columns (total 11 columns):\n",
            " #   Column          Dtype  \n",
            "---  ------          -----  \n",
            " 0   step            int64  \n",
            " 1   type            object \n",
            " 2   amount          float64\n",
            " 3   nameOrig        object \n",
            " 4   oldbalanceOrg   float64\n",
            " 5   newbalanceOrig  float64\n",
            " 6   nameDest        object \n",
            " 7   oldbalanceDest  float64\n",
            " 8   newbalanceDest  float64\n",
            " 9   isFraud         int64  \n",
            " 10  isFlaggedFraud  int64  \n",
            "dtypes: float64(5), int64(3), object(3)\n",
            "memory usage: 534.0+ MB\n"
          ]
        }
      ],
      "source": [
        "df.info()"
      ]
    },
    {
      "cell_type": "markdown",
      "metadata": {
        "id": "ydZOlamWm-09"
      },
      "source": [
        "# Etapa 1: Análise Exploratória\n",
        "\n",
        "A análise exploratória tem como objetivo compreender as características do conjunto de dados, identificar padrões e possíveis problemas, como valores ausentes ou outliers. Serão apresentados gráficos, tabelas e estatísticas descritivas para apoiar a interpretação dos dados.\n",
        "\n",
        "### Descrição do Conjunto de Dados\n",
        "- Identificação do número de amostras e variáveis.\n",
        "- Verificação de valores ausentes e possíveis inconsistências.\n",
        "- Distribuição das classes (fraudulenta vs. não fraudulenta).\n",
        "\n",
        "### Estatísticas Descritivas\n",
        "- Análise das medidas estatísticas básicas, como média, mediana, desvio padrão e quartis.\n",
        "- Verificação de outliers e variáveis que necessitam de transformação.\n",
        "\n",
        "### Análise Gráfica\n",
        "- Visualização da distribuição das variáveis.\n",
        "- Identificação de correlações entre as variáveis do dataset.\n"
      ]
    },
    {
      "cell_type": "code",
      "execution_count": 38,
      "metadata": {
        "colab": {
          "base_uri": "https://localhost:8080/"
        },
        "id": "jla_p51mJ3M0",
        "outputId": "e87715ac-baab-4313-9ddf-8b3eff46da97"
      },
      "outputs": [
        {
          "name": "stdout",
          "output_type": "stream",
          "text": [
            "\n",
            "Distribuição das classes (fraudulenta vs. não fraudulenta):\n",
            "isFraud\n",
            "0    6354407\n",
            "1       8213\n",
            "Name: count, dtype: int64\n",
            "O número total de transações fraudulentas é: 8213\n"
          ]
        }
      ],
      "source": [
        "# Exibe a distribuição das classes na coluna 'isFraud'\n",
        "print(\"\\nDistribuição das classes (fraudulenta vs. não fraudulenta):\")\n",
        "print(df['isFraud'].value_counts())\n",
        "\n",
        "# Exibe a quantidade de fraudes usando uma f-string\n",
        "fraudes = df['isFraud'].value_counts()[1]  # Obtém o número de fraudes (classe 1)\n",
        "print(f\"O número total de transações fraudulentas é: {fraudes}\")"
      ]
    },
    {
      "cell_type": "code",
      "execution_count": 39,
      "metadata": {
        "colab": {
          "base_uri": "https://localhost:8080/"
        },
        "id": "otYw3FNH2pd2",
        "outputId": "60be9b76-c909-4738-981c-7ce4858a78fa"
      },
      "outputs": [
        {
          "name": "stdout",
          "output_type": "stream",
          "text": [
            "\n",
            "Distribuição das classes (fraudulenta Sinalizada vs. não fraudulenta Sinalizada):\n",
            "isFlaggedFraud\n",
            "0    6362604\n",
            "1         16\n",
            "Name: count, dtype: int64\n",
            "O número total de transações fraudulentas Sinalizadas é: 16\n"
          ]
        }
      ],
      "source": [
        "# Exibe a distribuição das classes na coluna 'isFraud'\n",
        "print(\"\\nDistribuição das classes (fraudulenta Sinalizada vs. não fraudulenta Sinalizada):\")\n",
        "print(df['isFlaggedFraud'].value_counts())\n",
        "\n",
        "# Exibe a quantidade de fraudes usando uma f-string\n",
        "fraudes = df['isFlaggedFraud'].value_counts()[1]  # Obtém o número de fraudes (classe 1)\n",
        "print(f\"O número total de transações fraudulentas Sinalizadas é: {fraudes}\")"
      ]
    },
    {
      "cell_type": "code",
      "execution_count": 40,
      "metadata": {
        "colab": {
          "base_uri": "https://localhost:8080/"
        },
        "id": "8zXzXfLZSXRd",
        "outputId": "75c1aac5-2896-4831-8746-f91b2e98e45e"
      },
      "outputs": [
        {
          "name": "stdout",
          "output_type": "stream",
          "text": [
            "O valor total no campo 'amount' é de R$ 1,144,392,944,759.77\n"
          ]
        }
      ],
      "source": [
        "# Calcular o valor total no campo 'amount'\n",
        "total_amount = df['amount'].sum()\n",
        "\n",
        "# Exibir o valor total no campo 'amount' com uma f-string\n",
        "print(f\"O valor total no campo 'amount' é de R$ {total_amount:,.2f}\")"
      ]
    },
    {
      "cell_type": "code",
      "execution_count": 41,
      "metadata": {
        "colab": {
          "base_uri": "https://localhost:8080/"
        },
        "id": "4hGo6a0qRtSG",
        "outputId": "ad883863-0312-4c37-81b6-e6350c4152f2"
      },
      "outputs": [
        {
          "name": "stdout",
          "output_type": "stream",
          "text": [
            "O valor total fraudado é de R$ 12,056,415,427.84\n"
          ]
        }
      ],
      "source": [
        "# Calcular o valor total fraudado\n",
        "total_fraud_amount = df[df['isFraud'] == 1]['amount'].sum()\n",
        "\n",
        "# Exibir o valor total fraudado com uma f-string\n",
        "print(f\"O valor total fraudado é de R$ {total_fraud_amount:,.2f}\")"
      ]
    },
    {
      "cell_type": "code",
      "execution_count": 42,
      "metadata": {
        "colab": {
          "base_uri": "https://localhost:8080/"
        },
        "id": "fXghDsJI3K2f",
        "outputId": "eec3b09f-fa32-402b-abd0-0b0e9ca7e583"
      },
      "outputs": [
        {
          "name": "stdout",
          "output_type": "stream",
          "text": [
            "O valor total fraudado sinalizado é de R$ 77,785,563.69\n"
          ]
        }
      ],
      "source": [
        "# Calcular o valor total fraudado\n",
        "total_fraud_amount = df[df['isFlaggedFraud'] == 1]['amount'].sum()\n",
        "\n",
        "# Exibir o valor total fraudado com uma f-string\n",
        "print(f\"O valor total fraudado sinalizado é de R$ {total_fraud_amount:,.2f}\")"
      ]
    },
    {
      "cell_type": "code",
      "execution_count": 43,
      "metadata": {
        "colab": {
          "base_uri": "https://localhost:8080/"
        },
        "id": "pnBzkVK33b5w",
        "outputId": "f22a7938-18df-43e1-f2ff-0a3593d3014a"
      },
      "outputs": [
        {
          "name": "stdout",
          "output_type": "stream",
          "text": [
            "O tipo de transação 'TRANSFER' tem 16 casos de fraude sinalizada.\n"
          ]
        }
      ],
      "source": [
        "# Contar os tipos de transações fraudulentas no DataFrame\n",
        "fraud_type_counts = df[df['isFlaggedFraud'] == 1]['type'].value_counts()\n",
        "\n",
        "# Exibir os valores de cada tipo de transação fraudulenta\n",
        "for transaction_type, count in fraud_type_counts.items():\n",
        "    print(f\"O tipo de transação '{transaction_type}' tem {count} casos de fraude sinalizada.\")"
      ]
    },
    {
      "cell_type": "code",
      "execution_count": 44,
      "metadata": {
        "colab": {
          "base_uri": "https://localhost:8080/"
        },
        "id": "MWZdQiVTQeu8",
        "outputId": "11a96b18-e94b-4d35-8abf-24fefdff5d61"
      },
      "outputs": [
        {
          "name": "stdout",
          "output_type": "stream",
          "text": [
            "O tipo de transação 'CASH_OUT' tem 4116 casos de fraude.\n",
            "O tipo de transação 'TRANSFER' tem 4097 casos de fraude.\n"
          ]
        }
      ],
      "source": [
        "# Contar os tipos de transações fraudulentas no DataFrame\n",
        "fraud_type_counts = df[df['isFraud'] == 1]['type'].value_counts()\n",
        "\n",
        "# Exibir os valores de cada tipo de transação fraudulenta\n",
        "for transaction_type, count in fraud_type_counts.items():\n",
        "    print(f\"O tipo de transação '{transaction_type}' tem {count} casos de fraude.\")"
      ]
    },
    {
      "cell_type": "code",
      "execution_count": 45,
      "metadata": {
        "colab": {
          "base_uri": "https://localhost:8080/",
          "height": 675
        },
        "id": "6jVDFlIXPok3",
        "outputId": "40c48be2-37af-438c-d31c-82275ba15d01"
      },
      "outputs": [
        {
          "data": {
            "image/png": "[encoded data removed]",
            "text/plain": [
              "<Figure size 800x800 with 1 Axes>"
            ]
          },
          "metadata": {},
          "output_type": "display_data"
        }
      ],
      "source": [
        "# Ajustar cores e destacar a fatia correspondente ao tipo mais frequente\n",
        "colors = plt.cm.viridis([0.1, 0.5, 0.9])  # Paleta de cores personalizada\n",
        "explode = [0.05 if i == fraud_type_counts.idxmax() else 0 for i in fraud_type_counts.index]  # Destaque para a maior fatia\n",
        "\n",
        "# Criar o gráfico de pizza\n",
        "plt.figure(figsize=(8, 8))\n",
        "wedges, texts, autotexts = plt.pie(\n",
        "    fraud_type_counts,\n",
        "    labels=fraud_type_counts.index,\n",
        "    autopct='%1.1f%%',\n",
        "    startangle=140,\n",
        "    colors=colors,\n",
        "    explode=explode\n",
        ")\n",
        "\n",
        "# Alterar a cor do texto no gráfico de pizza\n",
        "for i, autotext in enumerate(autotexts):\n",
        "    if fraud_type_counts.index[i] == fraud_type_counts.idxmax():  # Ajusta a cor apenas para a maior fatia\n",
        "        autotext.set_color(\"white\")\n",
        "    else:\n",
        "        autotext.set_color(\"black\")\n",
        "\n",
        "# Configurar legenda fora do gráfico\n",
        "plt.legend(wedges, fraud_type_counts.index, title=\"Tipos de Transações\", loc=\"center left\", bbox_to_anchor=(1, 0.5))\n",
        "\n",
        "plt.title('Distribuição dos Tipos de Transações Fraudulentas')\n",
        "plt.show()"
      ]
    },
    {
      "cell_type": "markdown",
      "metadata": {
        "id": "Qq-2PxISnDRO"
      },
      "source": [
        "## Etapa 2: Modelagem\n",
        "\n",
        "Nesta etapa, os dados serão divididos em conjuntos de treino e teste, e modelos de Machine Learning serão treinados utilizando os algoritmos KNN, Árvore de Decisão e Regressão Logística. Os resultados de cada modelo serão comparados com base nas métricas de desempenho.\n",
        "\n",
        "### Preparação dos Dados\n",
        "- Separação das variáveis independentes (features) e dependente (target).\n",
        "- Normalização ou padronização das variáveis, se necessário.\n",
        "- Divisão do conjunto de dados em treino (70%) e teste (30%).\n",
        "\n",
        "### Construção dos Modelos\n",
        "- Treinamento e avaliação do modelo KNN.\n",
        "- Treinamento e avaliação do modelo Árvore de Decisão.\n",
        "- Treinamento e avaliação do modelo Regressão Logística.\n"
      ]
    },
    {
      "cell_type": "code",
      "execution_count": 46,
      "metadata": {
        "id": "jdffqjSqnLzF"
      },
      "outputs": [],
      "source": [
        "# Remover colunas irrelevantes\n",
        "columns_to_drop = ['oldbalanceOrg', 'newbalanceOrig', 'oldbalanceDest', 'newbalanceDest', 'nameOrig', 'nameDest']\n",
        "df_cleaned = df.drop(columns=columns_to_drop, axis=1)\n",
        "\n",
        "# Separar features (X) e target (y)\n",
        "X = df_cleaned.drop('isFraud', axis=1)\n",
        "y = df_cleaned['isFraud']\n",
        "\n",
        "# Codificar a variável categórica 'type' usando One-Hot Encoding\n",
        "X = pd.get_dummies(X, columns=['type'], drop_first=True)\n",
        "\n",
        "# Converter colunas booleanas para int (se necessário)\n",
        "X = X.astype(int)\n",
        "\n",
        "# Dividir o conjunto de dados em treino (70%) e teste (30%)\n",
        "X_train, X_test, y_train, y_test = train_test_split(X, y, test_size=0.3, random_state=42, stratify=y)\n",
        "\n",
        "# Normalizar ou padronizar os dados\n",
        "scaler = StandardScaler()\n",
        "X_train = scaler.fit_transform(X_train)\n",
        "X_test = scaler.transform(X_test)"
      ]
    },
    {
      "cell_type": "code",
      "execution_count": 47,
      "metadata": {
        "colab": {
          "base_uri": "https://localhost:8080/"
        },
        "id": "4itfBVEhcNqL",
        "outputId": "f3fd4540-9cf8-4e5f-927c-ebbb49d31ab2"
      },
      "outputs": [
        {
          "name": "stdout",
          "output_type": "stream",
          "text": [
            "step              int64\n",
            "amount            int64\n",
            "isFlaggedFraud    int64\n",
            "type_CASH_OUT     int64\n",
            "type_DEBIT        int64\n",
            "type_PAYMENT      int64\n",
            "type_TRANSFER     int64\n",
            "dtype: object\n"
          ]
        }
      ],
      "source": [
        "# Verificando o Tipo dos Dados do X\n",
        "print(X.dtypes)"
      ]
    },
    {
      "cell_type": "code",
      "execution_count": 48,
      "metadata": {
        "colab": {
          "base_uri": "https://localhost:8080/"
        },
        "id": "OrhxyJQQcg2o",
        "outputId": "11821b55-1a0c-4958-be0e-f9c14f787510"
      },
      "outputs": [
        {
          "name": "stdout",
          "output_type": "stream",
          "text": [
            "int64\n"
          ]
        }
      ],
      "source": [
        "# Verificando o Tipo dos Dados do y\n",
        "print(y.dtypes)"
      ]
    },
    {
      "cell_type": "code",
      "execution_count": 49,
      "metadata": {
        "colab": {
          "base_uri": "https://localhost:8080/"
        },
        "id": "tTgNRtEW9VFE",
        "outputId": "cd3c449c-ed98-44b8-e603-8a973bf05d96"
      },
      "outputs": [
        {
          "name": "stdout",
          "output_type": "stream",
          "text": [
            "Tempo de treinamento (KNN tradicional): 1.24 segundos\n",
            "Tempo de previsão (KNN tradicional): 134.51 segundos\n"
          ]
        }
      ],
      "source": [
        "# Subamostrar para reduzir o conjunto de treinamento\n",
        "X_train_sample, _, y_train_sample, _ = train_test_split(\n",
        "    X_train, y_train, train_size=0.1, stratify=y_train, random_state=42\n",
        ")\n",
        "\n",
        "# Reduzir dimensionalidade com PCA\n",
        "max_components = min(X_train_sample.shape[1], X_test.shape[1])\n",
        "n_components = min(10, max_components)\n",
        "pca = PCA(n_components=n_components)\n",
        "\n",
        "X_train_pca = pca.fit_transform(X_train_sample)\n",
        "X_test_pca = pca.transform(X_test)\n",
        "\n",
        "\n",
        "# Inicializar o modelo KNN\n",
        "knn = KNeighborsClassifier(n_neighbors=5, n_jobs=-1)\n",
        "\n",
        "# Treinar o modelo\n",
        "start_time = time.time()\n",
        "knn.fit(X_train_pca, y_train_sample)\n",
        "train_time = time.time() - start_time\n",
        "print(f\"Tempo de treinamento (KNN tradicional): {train_time:.2f} segundos\")\n",
        "\n",
        "# Fazer previsões\n",
        "start_time = time.time()\n",
        "y_pred_knn = knn.predict(X_test_pca)\n",
        "predict_time = time.time() - start_time\n",
        "print(f\"Tempo de previsão (KNN tradicional): {predict_time:.2f} segundos\")\n",
        "\n",
        "# Avaliação\n",
        "#print(\"Acurácia (KNN tradicional):\", accuracy_score(y_test, y_pred_knn))\n",
        "#print(\"\\nRelatório de classificação (KNN tradicional):\\n\", classification_report(y_test, y_pred_knn))"
      ]
    },
    {
      "cell_type": "code",
      "execution_count": 50,
      "metadata": {
        "colab": {
          "base_uri": "https://localhost:8080/"
        },
        "id": "Y9WkEJ-IUEz8",
        "outputId": "6e3000b9-7634-479f-a4af-fb9638bc865a"
      },
      "outputs": [
        {
          "name": "stdout",
          "output_type": "stream",
          "text": [
            "Tempo de treinamento (Árvore de Decisão): 35.79 segundos\n",
            "Tempo de previsão (Árvore de Decisão): 0.23 segundos\n"
          ]
        }
      ],
      "source": [
        "# Inicializar o modelo de Árvore de Decisão\n",
        "dt = DecisionTreeClassifier(random_state=42)\n",
        "\n",
        "# Medir o tempo de treinamento\n",
        "start_train = time.time()\n",
        "dt.fit(X_train, y_train)\n",
        "train_time = time.time() - start_train\n",
        "print(f\"Tempo de treinamento (Árvore de Decisão): {train_time:.2f} segundos\")\n",
        "\n",
        "# Medir o tempo de previsão\n",
        "start_predict = time.time()\n",
        "y_pred_dt = dt.predict(X_test)\n",
        "predict_time = time.time() - start_predict\n",
        "print(f\"Tempo de previsão (Árvore de Decisão): {predict_time:.2f} segundos\")\n",
        "\n",
        "# Avaliar o desempenho\n",
        "#print(\"\\nÁrvore de Decisão - Classification Report:\")\n",
        "#print(classification_report(y_test, y_pred_dt))"
      ]
    },
    {
      "cell_type": "code",
      "execution_count": 51,
      "metadata": {
        "colab": {
          "base_uri": "https://localhost:8080/"
        },
        "id": "T5eNYskbUEsh",
        "outputId": "a361e026-34dd-4200-801c-f93a1c38b2c6"
      },
      "outputs": [
        {
          "name": "stdout",
          "output_type": "stream",
          "text": [
            "Tempo de treinamento (Regressão Logística): 4.83 segundos\n",
            "Tempo de previsão (Regressão Logística): 0.04 segundos\n"
          ]
        }
      ],
      "source": [
        "# Inicializar o modelo de Regressão Logística\n",
        "lr = LogisticRegression(random_state=42, max_iter=1000)\n",
        "\n",
        "# Medir o tempo de treinamento\n",
        "start_train = time.time()\n",
        "lr.fit(X_train, y_train)\n",
        "train_time = time.time() - start_train\n",
        "print(f\"Tempo de treinamento (Regressão Logística): {train_time:.2f} segundos\")\n",
        "\n",
        "# Medir o tempo de previsão\n",
        "start_predict = time.time()\n",
        "y_pred_lr = lr.predict(X_test)\n",
        "predict_time = time.time() - start_predict\n",
        "print(f\"Tempo de previsão (Regressão Logística): {predict_time:.2f} segundos\")\n",
        "\n",
        "# Avaliar o desempenho\n",
        "#print(\"\\nRegressão Logística - Classification Report:\")\n",
        "#print(classification_report(y_test, y_pred_lr))"
      ]
    },
    {
      "cell_type": "markdown",
      "metadata": {
        "id": "nbO_IyhknMOn"
      },
      "source": [
        "## Etapa 4: Identificação das Features Mais Importantes\n",
        "\n",
        "Será feita a análise das variáveis mais relevantes para o modelo, explicando quais delas contribuem de forma significativa para a detecção de fraudes.\n"
      ]
    },
    {
      "cell_type": "code",
      "execution_count": 52,
      "metadata": {
        "colab": {
          "base_uri": "https://localhost:8080/",
          "height": 567
        },
        "id": "tVZCU5hYnQpn",
        "outputId": "ab0ec89a-2401-4962-9220-de9589f4a6ba"
      },
      "outputs": [
        {
          "data": {
            "image/png": "[encoded data removed]",
            "text/plain": [
              "<Figure size 1000x600 with 1 Axes>"
            ]
          },
          "metadata": {},
          "output_type": "display_data"
        }
      ],
      "source": [
        "# Importância das features no modelo de Árvore de Decisão\n",
        "\n",
        "# Extrair importância das features\n",
        "feature_importances = dt.feature_importances_\n",
        "features = X.columns\n",
        "\n",
        "# Ordenar as features pela importância\n",
        "sorted_idx = np.argsort(feature_importances)[::-1]\n",
        "sorted_features = features[sorted_idx]\n",
        "sorted_importances = feature_importances[sorted_idx]\n",
        "\n",
        "# Ajustar o número máximo de features a exibir\n",
        "top_n = min(10, len(sorted_features))\n",
        "\n",
        "# Visualizar as features mais importantes\n",
        "plt.figure(figsize=(10, 6))\n",
        "plt.barh(sorted_features[:top_n], sorted_importances[:top_n])\n",
        "plt.gca().invert_yaxis()\n",
        "plt.title(f\"{top_n} Features Mais Importantes - Árvore de Decisão\")\n",
        "plt.xlabel(\"Importância\")\n",
        "plt.show()"
      ]
    },
    {
      "cell_type": "code",
      "execution_count": 53,
      "metadata": {
        "colab": {
          "base_uri": "https://localhost:8080/",
          "height": 565
        },
        "id": "DI1hO53XHtfC",
        "outputId": "d1e504eb-5459-41cb-d924-8a792bf7bca1"
      },
      "outputs": [
        {
          "data": {
            "image/png": "[encoded data removed]",
            "text/plain": [
              "<Figure size 1000x600 with 1 Axes>"
            ]
          },
          "metadata": {},
          "output_type": "display_data"
        }
      ],
      "source": [
        "# Identificar as variáveis mais relevantes no modelo de Regressão Logística\n",
        "coefficients = lr.coef_[0]\n",
        "sorted_idx_lr = np.argsort(np.abs(coefficients))[::-1]\n",
        "sorted_features_lr = features[sorted_idx_lr]\n",
        "sorted_coefficients = coefficients[sorted_idx_lr]\n",
        "\n",
        "# Ajustar o número máximo de features a exibir\n",
        "top_n_lr = min(10, len(sorted_features_lr))\n",
        "\n",
        "# Visualizar as features mais relevantes\n",
        "plt.figure(figsize=(10, 6))\n",
        "plt.barh(sorted_features_lr[:top_n_lr], np.abs(sorted_coefficients[:top_n_lr]))\n",
        "plt.gca().invert_yaxis()\n",
        "plt.title(f\"{top_n_lr} Features Mais Relevantes - Regressão Logística\")\n",
        "plt.xlabel(\"Magnitude do Coeficiente\")\n",
        "plt.show()"
      ]
    },
    {
      "cell_type": "code",
      "execution_count": 54,
      "metadata": {
        "colab": {
          "base_uri": "https://localhost:8080/"
        },
        "id": "9Mh57kfCHxYT",
        "outputId": "baae5686-3942-4b14-ca81-efc0abe9e421"
      },
      "outputs": [
        {
          "name": "stdout",
          "output_type": "stream",
          "text": [
            "Features mais importantes no modelo de Árvore de Decisão:\n",
            "1. amount - Importância: 0.4936\n",
            "2. step - Importância: 0.4084\n",
            "3. type_TRANSFER - Importância: 0.0736\n",
            "4. type_CASH_OUT - Importância: 0.0229\n",
            "5. isFlaggedFraud - Importância: 0.0015\n",
            "6. type_PAYMENT - Importância: 0.0000\n",
            "7. type_DEBIT - Importância: 0.0000\n",
            "\n",
            "Features mais relevantes no modelo de Regressão Logística:\n",
            "1. type_CASH_OUT - Coeficiente: 1.5339\n",
            "2. type_TRANSFER - Coeficiente: 1.2348\n",
            "3. type_PAYMENT - Coeficiente: -0.8698\n",
            "4. step - Coeficiente: 0.7534\n",
            "5. type_DEBIT - Coeficiente: -0.1219\n",
            "6. amount - Coeficiente: 0.0667\n",
            "7. isFlaggedFraud - Coeficiente: 0.0417\n"
          ]
        }
      ],
      "source": [
        "# Conclusão sobre as features mais importantes\n",
        "print(\"Features mais importantes no modelo de Árvore de Decisão:\")\n",
        "for i in range(top_n):\n",
        "    print(f\"{i + 1}. {sorted_features[i]} - Importância: {sorted_importances[i]:.4f}\")\n",
        "\n",
        "print(\"\\nFeatures mais relevantes no modelo de Regressão Logística:\")\n",
        "for i in range(top_n_lr):\n",
        "    print(f\"{i + 1}. {sorted_features_lr[i]} - Coeficiente: {sorted_coefficients[i]:.4f}\")"
      ]
    },
    {
      "cell_type": "markdown",
      "metadata": {
        "id": "FcbKnO0TOGhq"
      },
      "source": [
        "## Análise das Features Mais Importantes\n",
        "\n",
        "### Modelo de Árvore de Decisão\n",
        "No modelo de Árvore de Decisão, as **importâncias das features** refletem o impacto que cada variável teve na tomada de decisões durante a construção da árvore. As principais features são:\n",
        "\n",
        "1. **amount**  \n",
        "   - **Importância:** 0.4936  \n",
        "   - A variável que representa o valor da transação foi a mais influente no modelo, correspondendo a quase 50% da importância total.\n",
        "\n",
        "2. **step**  \n",
        "   - **Importância:** 0.4084  \n",
        "   - O número de etapas (provavelmente uma proxy para tempo) também foi altamente relevante, contribuindo com cerca de 40% da importância.\n",
        "\n",
        "3. **type_TRANSFER**  \n",
        "   - **Importância:** 0.0736  \n",
        "   - Transações do tipo \"TRANSFER\" tiveram impacto moderado no modelo.\n",
        "\n",
        "4. **type_CASH_OUT**  \n",
        "   - **Importância:** 0.0229  \n",
        "   - Transações do tipo \"CASH_OUT\" tiveram um papel menor, mas ainda relevante.\n",
        "\n",
        "5. **isFlaggedFraud**  \n",
        "   - **Importância:** 0.0015  \n",
        "   - A variável que indica se a transação foi marcada como fraudulenta teve impacto muito pequeno no modelo.\n",
        "\n",
        "6. **type_PAYMENT** e **type_DEBIT**  \n",
        "   - **Importâncias:** 0.0000  \n",
        "   - Transações do tipo \"PAYMENT\" e \"DEBIT\" não tiveram relevância no modelo de Árvore de Decisão.\n",
        "\n",
        "---\n",
        "\n",
        "### Modelo de Regressão Logística\n",
        "No modelo de Regressão Logística, os **coeficientes** indicam a força e direção da relação entre as features e a probabilidade de fraude. Os resultados são:\n",
        "\n",
        "1. **type_CASH_OUT**  \n",
        "   - **Coeficiente:** 1.5339  \n",
        "   - Transações do tipo \"CASH_OUT\" tiveram o maior impacto positivo, aumentando significativamente a probabilidade de fraude.\n",
        "\n",
        "2. **type_TRANSFER**  \n",
        "   - **Coeficiente:** 1.2348  \n",
        "   - Transações do tipo \"TRANSFER\" também aumentaram a probabilidade de fraude, embora com menor impacto que \"CASH_OUT\".\n",
        "\n",
        "3. **type_PAYMENT**  \n",
        "   - **Coeficiente:** -0.8698  \n",
        "   - Transações do tipo \"PAYMENT\" reduziram a probabilidade de fraude, indicando que elas são menos propensas a serem fraudulentas.\n",
        "\n",
        "4. **step**  \n",
        "   - **Coeficiente:** 0.7534  \n",
        "   - O número de etapas (tempo) teve uma relação positiva moderada com a probabilidade de fraude.\n",
        "\n",
        "5. **type_DEBIT**  \n",
        "   - **Coeficiente:** -0.1219  \n",
        "   - Transações do tipo \"DEBIT\" tiveram uma pequena relação negativa com a probabilidade de fraude.\n",
        "\n",
        "6. **amount**  \n",
        "   - **Coeficiente:** 0.0667  \n",
        "   - O valor da transação teve um impacto positivo pequeno na probabilidade de fraude.\n",
        "\n",
        "7. **isFlaggedFraud**  \n",
        "   - **Coeficiente:** 0.0417  \n",
        "   - Indicar que a transação foi marcada como fraudulenta teve um impacto muito baixo no modelo.\n",
        "\n",
        "---\n",
        "\n",
        "### Comparação das Features Entre os Modelos\n",
        "- **amount**: A variável mais importante na Árvore de Decisão teve um impacto muito menor na Regressão Logística, sugerindo que seu papel pode ser mais não-linear.\n",
        "- **step**: Altamente relevante nos dois modelos, indicando que o tempo ou número de etapas é um indicador consistente de fraude.\n",
        "- **type_CASH_OUT** e **type_TRANSFER**: Essas categorias foram importantes em ambos os modelos, mas a Regressão Logística destacou ainda mais sua relevância.\n",
        "- **isFlaggedFraud**: Pouco relevante em ambos os modelos, indicando que as transações marcadas como suspeitas não são um indicador forte de fraude real.\n",
        "\n",
        "---\n",
        "\n",
        "### Conclusão\n",
        "- **Árvore de Decisão**: Excelente para capturar relações não-lineares entre as variáveis, dando maior peso ao valor da transação e ao tempo.\n",
        "- **Regressão Logística**: Focada em relações lineares, destacando o impacto de categorias específicas de transação, como \"CASH_OUT\" e \"TRANSFER\".\n",
        "- Combinar esses insights pode ajudar a refinar a detecção de fraude, aproveitando os pontos fortes de ambos os modelos.\n",
        "---"
      ]
    },
    {
      "cell_type": "markdown",
      "metadata": {
        "id": "t58hxFxGnR7R"
      },
      "source": [
        "## Etapa 3: Avaliação dos Resultados\n",
        "\n",
        "Os modelos serão avaliados utilizando as seguintes métricas:\n",
        "- **Matriz de Confusão:** Para analisar os erros de classificação.\n",
        "- **Acurácia:** Para medir o percentual de previsões corretas.\n",
        "- **Precisão:** Para avaliar a proporção de previsões corretas dentro da classe positiva.\n",
        "- **Recall:** Para medir a capacidade do modelo em identificar corretamente a classe positiva.\n"
      ]
    },
    {
      "cell_type": "code",
      "execution_count": 55,
      "metadata": {
        "colab": {
          "base_uri": "https://localhost:8080/"
        },
        "id": "KJftT_U6FUpP",
        "outputId": "c0321edb-49da-47db-fe0b-3af8f8fff2a6"
      },
      "outputs": [
        {
          "name": "stdout",
          "output_type": "stream",
          "text": [
            "### Modelo KNN ###\n",
            "Matriz de Confusão (KNN):\n",
            "[[1906242      80]\n",
            " [   2008     456]]\n",
            "\n",
            "Acurácia (KNN): 0.9989061110045862\n",
            "\n",
            "Relatório de Classificação (KNN):\n",
            "              precision    recall  f1-score   support\n",
            "\n",
            "           0       1.00      1.00      1.00   1906322\n",
            "           1       0.85      0.19      0.30      2464\n",
            "\n",
            "    accuracy                           1.00   1908786\n",
            "   macro avg       0.92      0.59      0.65   1908786\n",
            "weighted avg       1.00      1.00      1.00   1908786\n",
            "\n"
          ]
        }
      ],
      "source": [
        "# Avaliar o desempenho do Modelo KNN\n",
        "print(\"### Modelo KNN ###\")\n",
        "print(\"Matriz de Confusão (KNN):\")\n",
        "print(confusion_matrix(y_test, y_pred_knn))\n",
        "\n",
        "print(\"\\nAcurácia (KNN):\", accuracy_score(y_test, y_pred_knn))\n",
        "print(\"\\nRelatório de Classificação (KNN):\")\n",
        "print(classification_report(y_test, y_pred_knn))"
      ]
    },
    {
      "cell_type": "code",
      "execution_count": 56,
      "metadata": {
        "colab": {
          "base_uri": "https://localhost:8080/"
        },
        "id": "eIjtSEUeFUms",
        "outputId": "0ece161b-05e0-4f17-e052-a0f33db8ebcf"
      },
      "outputs": [
        {
          "name": "stdout",
          "output_type": "stream",
          "text": [
            "\n",
            "### Modelo Árvore de Decisão ###\n",
            "Matriz de Confusão (Árvore de Decisão):\n",
            "[[1905123    1199]\n",
            " [   1314    1150]]\n",
            "\n",
            "Acurácia (Árvore de Decisão): 0.9986834563958453\n",
            "\n",
            "Relatório de Classificação (Árvore de Decisão):\n",
            "              precision    recall  f1-score   support\n",
            "\n",
            "           0       1.00      1.00      1.00   1906322\n",
            "           1       0.49      0.47      0.48      2464\n",
            "\n",
            "    accuracy                           1.00   1908786\n",
            "   macro avg       0.74      0.73      0.74   1908786\n",
            "weighted avg       1.00      1.00      1.00   1908786\n",
            "\n"
          ]
        }
      ],
      "source": [
        "# Avaliar o desempenho do Modelo Árvore de Decisão\n",
        "print(\"\\n### Modelo Árvore de Decisão ###\")\n",
        "print(\"Matriz de Confusão (Árvore de Decisão):\")\n",
        "print(confusion_matrix(y_test, y_pred_dt))\n",
        "\n",
        "print(\"\\nAcurácia (Árvore de Decisão):\", accuracy_score(y_test, y_pred_dt))\n",
        "print(\"\\nRelatório de Classificação (Árvore de Decisão):\")\n",
        "print(classification_report(y_test, y_pred_dt))"
      ]
    },
    {
      "cell_type": "code",
      "execution_count": 57,
      "metadata": {
        "colab": {
          "base_uri": "https://localhost:8080/"
        },
        "id": "8Xwp_x3nFUka",
        "outputId": "ecab3cf7-3357-4f56-854d-2d3f0cd6fa9a"
      },
      "outputs": [
        {
          "name": "stdout",
          "output_type": "stream",
          "text": [
            "\n",
            "### Modelo Regressão Logística ###\n",
            "Matriz de Confusão (Regressão Logística):\n",
            "[[1906290      32]\n",
            " [   2462       2]]\n",
            "\n",
            "Acurácia (Regressão Logística): 0.998693410366589\n",
            "\n",
            "Relatório de Classificação (Regressão Logística):\n",
            "              precision    recall  f1-score   support\n",
            "\n",
            "           0       1.00      1.00      1.00   1906322\n",
            "           1       0.06      0.00      0.00      2464\n",
            "\n",
            "    accuracy                           1.00   1908786\n",
            "   macro avg       0.53      0.50      0.50   1908786\n",
            "weighted avg       1.00      1.00      1.00   1908786\n",
            "\n"
          ]
        }
      ],
      "source": [
        "# Avaliar o desempenho do Modelo Regressão Logística\n",
        "print(\"\\n### Modelo Regressão Logística ###\")\n",
        "print(\"Matriz de Confusão (Regressão Logística):\")\n",
        "print(confusion_matrix(y_test, y_pred_lr))\n",
        "\n",
        "print(\"\\nAcurácia (Regressão Logística):\", accuracy_score(y_test, y_pred_lr))\n",
        "print(\"\\nRelatório de Classificação (Regressão Logística):\")\n",
        "print(classification_report(y_test, y_pred_lr))"
      ]
    },
    {
      "cell_type": "markdown",
      "metadata": {
        "id": "9-bMSc_VGzbm"
      },
      "source": [
        "### Resumo dos Resultados e Comparação\n",
        "\n",
        "## Resultados dos Modelos\n",
        "\n",
        "### KNN\n",
        "- **Acurácia:** 99.89%\n",
        "- **Matriz de Confusão:** Verdadeiros positivos: 456; Falsos negativos: 2008; Falsos positivos: 80.\n",
        "- **Relatório:**\n",
        "  - Classe 0: Precision 1.00, Recall 1.00, F1-Score 1.00.\n",
        "  - Classe 1: Precision 0.85, Recall 0.19, F1-Score 0.30.\n",
        "\n",
        "### Árvore de Decisão\n",
        "- **Acurácia:** 99.87%\n",
        "- **Matriz de Confusão:** Verdadeiros positivos: 1150; Falsos negativos: 1314; Falsos positivos: 1199.\n",
        "- **Relatório:**\n",
        "  - Classe 0: Precision 1.00, Recall 1.00, F1-Score 1.00.\n",
        "  - Classe 1: Precision 0.49, Recall 0.47, F1-Score 0.48.\n",
        "\n",
        "### Regressão Logística\n",
        "- **Acurácia:** 99.87%\n",
        "- **Matriz de Confusão:** Verdadeiros positivos: 2; Falsos negativos: 2462; Falsos positivos: 32.\n",
        "- **Relatório:**\n",
        "  - Classe 0: Precision 1.00, Recall 1.00, F1-Score 1.00.\n",
        "  - Classe 1: Precision 0.06, Recall 0.00, F1-Score 0.00.\n",
        "\n",
        "---\n",
        "\n",
        "## Comparação\n",
        "1. **Acurácia:**\n",
        "   - Todos os modelos apresentam alta acurácia (~99.87%-99.89%), mas isso é influenciado pelo desbalanceamento das classes.\n",
        "\n",
        "2. **Classe 1 (minoritária):**\n",
        "   - O KNN teve a melhor performance com **Recall de 19%** e **Precision de 85%**.\n",
        "   - A Árvore de Decisão obteve desempenho intermediário (**Recall de 47%**, **Precision de 49%**).\n",
        "   - A Regressão Logística falhou em identificar a Classe 1 (**Recall 0%**).\n",
        "\n",
        "3. **Classe 0 (majoritária):**\n",
        "   - Todos os modelos apresentaram excelente desempenho com Precision e Recall de 100%.\n",
        "\n",
        "---\n",
        "\n",
        "## Conclusão\n",
        "- O **KNN** é o modelo mais equilibrado, pois oferece boa precisão e recall para a Classe 1, mesmo com um dataset desbalanceado.\n",
        "- A **Árvore de Decisão** apresenta um recall melhor para a Classe 1, mas menor precisão, o que pode gerar falsos positivos.\n",
        "- A **Regressão Logística** não é recomendada, pois falha em capturar exemplos da Classe 1."
      ]
    },
    {
      "cell_type": "markdown",
      "metadata": {
        "id": "U8Vj7khUnXee"
      },
      "source": [
        "## Etapa 5: Ajustes e Melhorias\n"
      ]
    },
    {
      "cell_type": "code",
      "execution_count": 58,
      "metadata": {
        "colab": {
          "base_uri": "https://localhost:8080/"
        },
        "id": "B_b1FHAWKbix",
        "outputId": "11a3e09a-2e27-4b47-bc90-2a29accb741e"
      },
      "outputs": [
        {
          "name": "stdout",
          "output_type": "stream",
          "text": [
            "Melhores parâmetros (KNN): {'n_neighbors': 10, 'weights': 'uniform'}\n",
            "Acurácia (KNN): 0.998889870315478\n",
            "\n",
            "Relatório de classificação (KNN):\n",
            "               precision    recall  f1-score   support\n",
            "\n",
            "           0       1.00      1.00      1.00   1906322\n",
            "           1       0.92      0.15      0.26      2464\n",
            "\n",
            "    accuracy                           1.00   1908786\n",
            "   macro avg       0.96      0.58      0.63   1908786\n",
            "weighted avg       1.00      1.00      1.00   1908786\n",
            "\n",
            "Tempo de treinamento (KNN): 199.10 segundos\n",
            "Tempo de previsão (KNN): 137.34 segundos\n"
          ]
        }
      ],
      "source": [
        "# Subamostrar os dados\n",
        "X_train_sample, _, y_train_sample, _ = train_test_split(\n",
        "    X_train, y_train, train_size=0.1, stratify=y_train, random_state=42\n",
        ")\n",
        "\n",
        "# Aplicar PCA para redução de dimensionalidade\n",
        "pca = PCA(n_components=min(10, X_train_sample.shape[1]))\n",
        "X_train_pca = pca.fit_transform(X_train_sample)\n",
        "X_test_pca = pca.transform(X_test)\n",
        "\n",
        "# Configuração do RandomizedSearchCV\n",
        "param_distributions_knn = {\n",
        "    'n_neighbors': randint(3, 20),\n",
        "    'weights': ['uniform', 'distance']\n",
        "}\n",
        "random_search_knn = RandomizedSearchCV(\n",
        "    KNeighborsClassifier(n_jobs=-1),\n",
        "    param_distributions=param_distributions_knn,\n",
        "    n_iter=10,\n",
        "    cv=5,\n",
        "    random_state=42\n",
        ")\n",
        "\n",
        "# Treinar com tempo medido\n",
        "start_train = time.time()\n",
        "random_search_knn.fit(X_train_pca, y_train_sample)\n",
        "train_time_knn = time.time() - start_train\n",
        "\n",
        "# Melhor modelo\n",
        "knn_best = random_search_knn.best_estimator_\n",
        "\n",
        "# Previsão e avaliação\n",
        "start_predict = time.time()\n",
        "y_pred_knn = knn_best.predict(X_test_pca)\n",
        "predict_time_knn = time.time() - start_predict\n",
        "\n",
        "print(\"Melhores parâmetros (KNN):\", random_search_knn.best_params_)\n",
        "print(\"Acurácia (KNN):\", accuracy_score(y_test, y_pred_knn))\n",
        "print(\"\\nRelatório de classificação (KNN):\\n\", classification_report(y_test, y_pred_knn))\n",
        "print(f\"Tempo de treinamento (KNN): {train_time_knn:.2f} segundos\")\n",
        "print(f\"Tempo de previsão (KNN): {predict_time_knn:.2f} segundos\")"
      ]
    },
    {
      "cell_type": "code",
      "execution_count": 59,
      "metadata": {
        "colab": {
          "base_uri": "https://localhost:8080/"
        },
        "id": "ccSlAF7OKbeo",
        "outputId": "861585df-d3af-485c-f1cb-2d67e8a6d4c6"
      },
      "outputs": [
        {
          "name": "stdout",
          "output_type": "stream",
          "text": [
            "Acurácia (Árvore de Decisão): 0.9013168579400729\n",
            "\n",
            "Relatório de classificação (Árvore de Decisão):\n",
            "               precision    recall  f1-score   support\n",
            "\n",
            "           0       1.00      0.90      0.95   1906322\n",
            "           1       0.01      0.84      0.02      2464\n",
            "\n",
            "    accuracy                           0.90   1908786\n",
            "   macro avg       0.51      0.87      0.48   1908786\n",
            "weighted avg       1.00      0.90      0.95   1908786\n",
            "\n",
            "Tempo de treinamento (Árvore de Decisão): 19.45 segundos\n",
            "Tempo de previsão (Árvore de Decisão): 0.18 segundos\n"
          ]
        }
      ],
      "source": [
        "# Configuração manual de hiperparâmetros\n",
        "dt = DecisionTreeClassifier(\n",
        "    max_depth=10,\n",
        "    min_samples_split=5,\n",
        "    min_samples_leaf=2,\n",
        "    class_weight='balanced',\n",
        "    random_state=42\n",
        ")\n",
        "\n",
        "# Treinar com tempo medido\n",
        "start_train = time.time()\n",
        "dt.fit(X_train, y_train)\n",
        "train_time_dt = time.time() - start_train\n",
        "\n",
        "# Previsão e avaliação\n",
        "start_predict = time.time()\n",
        "y_pred_dt = dt.predict(X_test)\n",
        "predict_time_dt = time.time() - start_predict\n",
        "\n",
        "print(\"Acurácia (Árvore de Decisão):\", accuracy_score(y_test, y_pred_dt))\n",
        "print(\"\\nRelatório de classificação (Árvore de Decisão):\\n\", classification_report(y_test, y_pred_dt))\n",
        "print(f\"Tempo de treinamento (Árvore de Decisão): {train_time_dt:.2f} segundos\")\n",
        "print(f\"Tempo de previsão (Árvore de Decisão): {predict_time_dt:.2f} segundos\")"
      ]
    },
    {
      "cell_type": "code",
      "execution_count": 60,
      "metadata": {
        "colab": {
          "base_uri": "https://localhost:8080/"
        },
        "id": "jeiEp2Q5KbWM",
        "outputId": "7a601089-87d0-44e9-9d1c-dd74fa989904"
      },
      "outputs": [
        {
          "name": "stdout",
          "output_type": "stream",
          "text": [
            "Acurácia (Regressão Logística): 0.7872019178682157\n",
            "\n",
            "Relatório de classificação (Regressão Logística):\n",
            "               precision    recall  f1-score   support\n",
            "\n",
            "           0       1.00      0.79      0.88   1906322\n",
            "           1       0.01      0.87      0.01      2464\n",
            "\n",
            "    accuracy                           0.79   1908786\n",
            "   macro avg       0.50      0.83      0.45   1908786\n",
            "weighted avg       1.00      0.79      0.88   1908786\n",
            "\n",
            "Tempo de treinamento (Regressão Logística): 10.58 segundos\n",
            "Tempo de previsão (Regressão Logística): 0.06 segundos\n"
          ]
        }
      ],
      "source": [
        "# Configuração manual de hiperparâmetros\n",
        "lr = LogisticRegression(\n",
        "    C=0.1,\n",
        "    penalty='l2',\n",
        "    solver='lbfgs',\n",
        "    class_weight='balanced',\n",
        "    max_iter=500,\n",
        "    random_state=42\n",
        ")\n",
        "\n",
        "# Treinar com tempo medido\n",
        "start_train = time.time()\n",
        "lr.fit(X_train, y_train)\n",
        "train_time_lr = time.time() - start_train\n",
        "\n",
        "# Previsão e avaliação\n",
        "start_predict = time.time()\n",
        "y_pred_lr = lr.predict(X_test)\n",
        "predict_time_lr = time.time() - start_predict\n",
        "\n",
        "print(\"Acurácia (Regressão Logística):\", accuracy_score(y_test, y_pred_lr))\n",
        "print(\"\\nRelatório de classificação (Regressão Logística):\\n\", classification_report(y_test, y_pred_lr))\n",
        "print(f\"Tempo de treinamento (Regressão Logística): {train_time_lr:.2f} segundos\")\n",
        "print(f\"Tempo de previsão (Regressão Logística): {predict_time_lr:.2f} segundos\")"
      ]
    },
    {
      "cell_type": "markdown",
      "metadata": {
        "id": "GXvAAS5Dp9-r"
      },
      "source": [
        "### Resumo dos Resultados Após os Ajustes\n",
        "\n",
        "## Resultados dos Modelos\n",
        "\n",
        "### KNN\n",
        "- **Melhores Parâmetros:** `{'n_neighbors': 10, 'weights': 'uniform'}`\n",
        "- **Acurácia:** 99.89%\n",
        "- **Relatório de Classificação:**\n",
        "  - Classe 0: Precision 1.00, Recall 1.00, F1-Score 1.00.\n",
        "  - Classe 1: Precision 0.92, Recall 0.15, F1-Score 0.26.\n",
        "- **Tempo de Treinamento:** 196.15 segundos.\n",
        "- **Tempo de Previsão:** 155.75 segundos.\n",
        "\n",
        "---\n",
        "\n",
        "### Árvore de Decisão\n",
        "- **Acurácia:** 90.13%\n",
        "- **Relatório de Classificação:**\n",
        "  - Classe 0: Precision 1.00, Recall 0.90, F1-Score 0.95.\n",
        "  - Classe 1: Precision 0.01, Recall 0.84, F1-Score 0.02.\n",
        "- **Tempo de Treinamento:** 19.49 segundos.\n",
        "- **Tempo de Previsão:** 0.13 segundos.\n",
        "\n",
        "---\n",
        "\n",
        "### Regressão Logística\n",
        "- **Acurácia:** 78.72%\n",
        "- **Relatório de Classificação:**\n",
        "  - Classe 0: Precision 1.00, Recall 0.79, F1-Score 0.88.\n",
        "  - Classe 1: Precision 0.01, Recall 0.87, F1-Score 0.01.\n",
        "- **Tempo de Treinamento:** 13.17 segundos.\n",
        "- **Tempo de Previsão:** 0.07 segundos.\n",
        "\n",
        "---\n",
        "\n",
        "## Comparação\n",
        "1. **Acurácia:**\n",
        "   - O KNN apresentou a maior acurácia (99.89%).\n",
        "   - A Árvore de Decisão e a Regressão Logística tiveram acurácias menores (90.13% e 78.72%, respectivamente).\n",
        "\n",
        "2. **Classe 1 (minoritária):**\n",
        "   - O KNN teve a melhor precisão (92%) e recall (15%) para a Classe 1, embora o recall seja limitado.\n",
        "   - A Árvore de Decisão obteve um recall significativamente maior (84%), mas com precisão muito baixa (1%).\n",
        "   - A Regressão Logística apresentou comportamento semelhante à Árvore de Decisão, mas com resultados piores no F1-Score.\n",
        "\n",
        "3. **Classe 0 (majoritária):**\n",
        "   - Todos os modelos apresentaram alta precisão para a Classe 0, mas a Árvore de Decisão e a Regressão Logística mostraram menor recall (90% e 79%, respectivamente).\n",
        "\n",
        "---\n",
        "\n",
        "## Conclusão\n",
        "- O **KNN** continua sendo o modelo mais equilibrado, oferecendo a melhor precisão e F1-Score para a Classe 1, embora o recall seja limitado.\n",
        "- A **Árvore de Decisão** é uma boa alternativa caso seja necessário maximizar o recall da Classe 1, apesar do aumento nos falsos positivos.\n",
        "- A **Regressão Logística** mostrou-se inadequada para este problema devido à baixa capacidade de identificar a Classe 1.\n",
        "---"
      ]
    }
  ],
  "metadata": {
    "colab": {
      "provenance": []
    },
    "kernelspec": {
      "display_name": "Python 3",
      "name": "python3"
    },
    "language_info": {
      "name": "python"
    }
  },
  "nbformat": 4,
  "nbformat_minor": 0
}
